{
 "cells": [
  {
   "cell_type": "code",
   "execution_count": 49,
   "metadata": {},
   "outputs": [],
   "source": [
    "import pandas as pd\n",
    "import numpy as np\n",
    "import matplotlib.pyplot as plt\n",
    "import matplotlib\n",
    "\n",
    "filepath_hospital = \"/Users/jeremyflics/Desktop/mdst_workshops/workshop3/HospitalAdmissionsData.csv\"\n",
    "hospital = pd.read_csv(filepath_hospital)"
   ]
  },
  {
   "cell_type": "code",
   "execution_count": 50,
   "metadata": {},
   "outputs": [
    {
     "data": {
      "text/plain": [
       "Index(['ID', 'AdmissionLengthDays', 'Death_1', 'Admission_Type',\n",
       "       'Insurance_Type', 'EnglishLanguage_1', 'Religion_Type', 'Married_1',\n",
       "       'Race', 'Dx'],\n",
       "      dtype='object')"
      ]
     },
     "execution_count": 50,
     "metadata": {},
     "output_type": "execute_result"
    }
   ],
   "source": [
    "#a) ID, AdmissionLengthDays, Death_1, Admission_Type, Insurance_Type, EnglishLanguage_1, Religion_Type, Married_1\n",
    "#   Race, Dx\n",
    "hospital.columns"
   ]
  },
  {
   "cell_type": "code",
   "execution_count": 51,
   "metadata": {},
   "outputs": [
    {
     "data": {
      "text/html": [
       "<div>\n",
       "<style scoped>\n",
       "    .dataframe tbody tr th:only-of-type {\n",
       "        vertical-align: middle;\n",
       "    }\n",
       "\n",
       "    .dataframe tbody tr th {\n",
       "        vertical-align: top;\n",
       "    }\n",
       "\n",
       "    .dataframe thead th {\n",
       "        text-align: right;\n",
       "    }\n",
       "</style>\n",
       "<table border=\"1\" class=\"dataframe\">\n",
       "  <thead>\n",
       "    <tr style=\"text-align: right;\">\n",
       "      <th></th>\n",
       "      <th>ID</th>\n",
       "      <th>AdmissionLengthDays</th>\n",
       "      <th>Death_1</th>\n",
       "      <th>Admission_Type</th>\n",
       "      <th>Insurance_Type</th>\n",
       "      <th>EnglishLanguage_1</th>\n",
       "      <th>Religion_Type</th>\n",
       "      <th>Married_1</th>\n",
       "      <th>Race</th>\n",
       "      <th>Dx</th>\n",
       "    </tr>\n",
       "  </thead>\n",
       "  <tbody>\n",
       "    <tr>\n",
       "      <td>0</td>\n",
       "      <td>42862</td>\n",
       "      <td>4.277778</td>\n",
       "      <td>0</td>\n",
       "      <td>elective</td>\n",
       "      <td>private</td>\n",
       "      <td>1</td>\n",
       "      <td>episcopalian</td>\n",
       "      <td>1</td>\n",
       "      <td>white</td>\n",
       "      <td>mitral stenosis\\mitral valve replacement /sda</td>\n",
       "    </tr>\n",
       "    <tr>\n",
       "      <td>1</td>\n",
       "      <td>5967</td>\n",
       "      <td>26.122917</td>\n",
       "      <td>0</td>\n",
       "      <td>elective</td>\n",
       "      <td>private</td>\n",
       "      <td>0</td>\n",
       "      <td>catholic</td>\n",
       "      <td>1</td>\n",
       "      <td>white</td>\n",
       "      <td>duodenal mass/sda</td>\n",
       "    </tr>\n",
       "    <tr>\n",
       "      <td>2</td>\n",
       "      <td>50952</td>\n",
       "      <td>7.028472</td>\n",
       "      <td>1</td>\n",
       "      <td>emergency</td>\n",
       "      <td>medicare</td>\n",
       "      <td>1</td>\n",
       "      <td>catholic</td>\n",
       "      <td>0</td>\n",
       "      <td>asian - japanese</td>\n",
       "      <td>? serotonin syndrome</td>\n",
       "    </tr>\n",
       "    <tr>\n",
       "      <td>3</td>\n",
       "      <td>17138</td>\n",
       "      <td>34.187500</td>\n",
       "      <td>0</td>\n",
       "      <td>elective</td>\n",
       "      <td>medicare</td>\n",
       "      <td>1</td>\n",
       "      <td>catholic</td>\n",
       "      <td>1</td>\n",
       "      <td>white</td>\n",
       "      <td>abdominal aortic aneurysm/sda</td>\n",
       "    </tr>\n",
       "    <tr>\n",
       "      <td>4</td>\n",
       "      <td>27703</td>\n",
       "      <td>6.165972</td>\n",
       "      <td>0</td>\n",
       "      <td>elective</td>\n",
       "      <td>government</td>\n",
       "      <td>0</td>\n",
       "      <td>protestant quaker</td>\n",
       "      <td>0</td>\n",
       "      <td>black/african american</td>\n",
       "      <td>absence/sda</td>\n",
       "    </tr>\n",
       "  </tbody>\n",
       "</table>\n",
       "</div>"
      ],
      "text/plain": [
       "      ID  AdmissionLengthDays  Death_1 Admission_Type Insurance_Type  \\\n",
       "0  42862             4.277778        0       elective        private   \n",
       "1   5967            26.122917        0       elective        private   \n",
       "2  50952             7.028472        1      emergency       medicare   \n",
       "3  17138            34.187500        0       elective       medicare   \n",
       "4  27703             6.165972        0       elective     government   \n",
       "\n",
       "   EnglishLanguage_1      Religion_Type  Married_1                    Race  \\\n",
       "0                  1       episcopalian          1                   white   \n",
       "1                  0           catholic          1                   white   \n",
       "2                  1           catholic          0        asian - japanese   \n",
       "3                  1           catholic          1                   white   \n",
       "4                  0  protestant quaker          0  black/african american   \n",
       "\n",
       "                                                Dx  \n",
       "0    mitral stenosis\\mitral valve replacement /sda  \n",
       "1                                duodenal mass/sda  \n",
       "2                             ? serotonin syndrome  \n",
       "3                    abdominal aortic aneurysm/sda  \n",
       "4                                      absence/sda  "
      ]
     },
     "execution_count": 51,
     "metadata": {},
     "output_type": "execute_result"
    }
   ],
   "source": [
    "#b) 4 ints, 1 float\n",
    "#c) Admission_Type, Insurance_Type, Religion_Type, Race, Dx\n",
    "hospital.head()"
   ]
  },
  {
   "cell_type": "code",
   "execution_count": 52,
   "metadata": {},
   "outputs": [
    {
     "data": {
      "text/plain": [
       "array(['private', 'medicare', 'government', 'medicaid', 'self pay'],\n",
       "      dtype=object)"
      ]
     },
     "execution_count": 52,
     "metadata": {},
     "output_type": "execute_result"
    }
   ],
   "source": [
    "#d) private, medicare, governmet, medicaid, self pay\n",
    "hospital.Insurance_Type.unique()"
   ]
  },
  {
   "cell_type": "code",
   "execution_count": 53,
   "metadata": {},
   "outputs": [
    {
     "data": {
      "text/plain": [
       "count    58863.000000\n",
       "mean        10.138978\n",
       "std         12.465611\n",
       "min         -0.945139\n",
       "25%          3.743056\n",
       "50%          6.465972\n",
       "75%         11.798264\n",
       "max        294.660417\n",
       "Name: AdmissionLengthDays, dtype: float64"
      ]
     },
     "execution_count": 53,
     "metadata": {},
     "output_type": "execute_result"
    }
   ],
   "source": [
    "#e) see next command\n",
    "hospital.AdmissionLengthDays.describe()"
   ]
  },
  {
   "cell_type": "code",
   "execution_count": 54,
   "metadata": {},
   "outputs": [
    {
     "data": {
      "text/html": [
       "<div>\n",
       "<style scoped>\n",
       "    .dataframe tbody tr th:only-of-type {\n",
       "        vertical-align: middle;\n",
       "    }\n",
       "\n",
       "    .dataframe tbody tr th {\n",
       "        vertical-align: top;\n",
       "    }\n",
       "\n",
       "    .dataframe thead th {\n",
       "        text-align: right;\n",
       "    }\n",
       "</style>\n",
       "<table border=\"1\" class=\"dataframe\">\n",
       "  <thead>\n",
       "    <tr style=\"text-align: right;\">\n",
       "      <th></th>\n",
       "      <th>Admission_Type</th>\n",
       "      <th>Insurance_Type</th>\n",
       "      <th>Religion_Type</th>\n",
       "      <th>Race</th>\n",
       "      <th>Dx</th>\n",
       "    </tr>\n",
       "  </thead>\n",
       "  <tbody>\n",
       "    <tr>\n",
       "      <td>count</td>\n",
       "      <td>58863</td>\n",
       "      <td>58863</td>\n",
       "      <td>58408</td>\n",
       "      <td>58863</td>\n",
       "      <td>58863</td>\n",
       "    </tr>\n",
       "    <tr>\n",
       "      <td>unique</td>\n",
       "      <td>4</td>\n",
       "      <td>5</td>\n",
       "      <td>20</td>\n",
       "      <td>41</td>\n",
       "      <td>15647</td>\n",
       "    </tr>\n",
       "    <tr>\n",
       "      <td>top</td>\n",
       "      <td>emergency</td>\n",
       "      <td>medicare</td>\n",
       "      <td>catholic</td>\n",
       "      <td>white</td>\n",
       "      <td>newborn</td>\n",
       "    </tr>\n",
       "    <tr>\n",
       "      <td>freq</td>\n",
       "      <td>41987</td>\n",
       "      <td>28157</td>\n",
       "      <td>20561</td>\n",
       "      <td>40927</td>\n",
       "      <td>7823</td>\n",
       "    </tr>\n",
       "  </tbody>\n",
       "</table>\n",
       "</div>"
      ],
      "text/plain": [
       "       Admission_Type Insurance_Type Religion_Type   Race       Dx\n",
       "count           58863          58863         58408  58863    58863\n",
       "unique              4              5            20     41    15647\n",
       "top         emergency       medicare      catholic  white  newborn\n",
       "freq            41987          28157         20561  40927     7823"
      ]
     },
     "execution_count": 54,
     "metadata": {},
     "output_type": "execute_result"
    }
   ],
   "source": [
    "#f) emergency, medicare, catholic, white, newborn\n",
    "hospital.describe(include = 'object')"
   ]
  },
  {
   "cell_type": "code",
   "execution_count": 57,
   "metadata": {},
   "outputs": [
    {
     "data": {
      "text/plain": [
       "Text(0, 0.5, 'Count')"
      ]
     },
     "execution_count": 57,
     "metadata": {},
     "output_type": "execute_result"
    },
    {
     "data": {
      "image/png": "[encoded data removed]",
      "text/plain": [
       "<Figure size 432x288 with 1 Axes>"
      ]
     },
     "metadata": {
      "needs_background": "light"
     },
     "output_type": "display_data"
    }
   ],
   "source": [
    "#g) see next commands\n",
    "hospital.hist(column='AdmissionLengthDays', label=True)\n",
    "plt.title('Histogram of Admission Lengths Days')\n",
    "plt.xlabel('Admission Days')\n",
    "plt.ylabel('Count')"
   ]
  },
  {
   "cell_type": "code",
   "execution_count": 59,
   "metadata": {},
   "outputs": [
    {
     "data": {
      "image/png": "[encoded data removed]",
      "text/plain": [
       "<Figure size 432x288 with 1 Axes>"
      ]
     },
     "metadata": {
      "needs_background": "light"
     },
     "output_type": "display_data"
    }
   ],
   "source": [
    "#g) continued\n",
    "hospital.hist(column='AdmissionLengthDays', label=True)\n",
    "plt.title('Histogram of Log Admission Lengths Days')\n",
    "plt.xlabel('Log Admission Days')\n",
    "plt.ylabel('Count')\n",
    "plt.xscale('Log')\n",
    "#The majority of patients have short visits"
   ]
  },
  {
   "cell_type": "code",
   "execution_count": 71,
   "metadata": {},
   "outputs": [
    {
     "data": {
      "text/plain": [
       "Text(0, 0.5, 'Count')"
      ]
     },
     "execution_count": 71,
     "metadata": {},
     "output_type": "execute_result"
    },
    {
     "data": {
      "image/png": "[encoded data removed]",
      "text/plain": [
       "<Figure size 432x288 with 2 Axes>"
      ]
     },
     "metadata": {
      "needs_background": "light"
     },
     "output_type": "display_data"
    }
   ],
   "source": [
    "#h)\n",
    "fig, axes = plt.subplots(1,2, sharex=True, sharey=True)\n",
    "\n",
    "hospital.hist(column='AdmissionLengthDays', by=hospital.Death_1, ax=axes)\n",
    "\n",
    "fig.text(0.5, 1, 'Histogram of Admission Length Days by Survival', ha='center')\n",
    "plt.title(\"Survived\")\n",
    "plt.xlabel(\"Admission Days\")\n",
    "plt.ylabel(\"Count\")\n",
    "\n",
    "plt.title(\"Died\")\n",
    "\n",
    "plt.xlabel(\"Admission Days\")\n",
    "plt.ylabel(\"Count\")"
   ]
  },
  {
   "cell_type": "code",
   "execution_count": 74,
   "metadata": {},
   "outputs": [
    {
     "data": {
      "text/plain": [
       "Text(0, 0.5, 'Count')"
      ]
     },
     "execution_count": 74,
     "metadata": {},
     "output_type": "execute_result"
    },
    {
     "data": {
      "image/png": "[encoded data removed]",
      "text/plain": [
       "<Figure size 432x288 with 5 Axes>"
      ]
     },
     "metadata": {
      "needs_background": "light"
     },
     "output_type": "display_data"
    }
   ],
   "source": [
    "#i)\n",
    "fig, axes = plt.subplots(1,5, sharex=True, sharey=True)\n",
    "\n",
    "hospital.hist(column='Death_1', by=hospital.Insurance_Type, ax=axes)\n",
    "\n",
    "fig.text(0.5, 1, 'Histogram of Admission Length Days by Survival', ha='center')\n",
    "plt.xlabel(\"Admission Days\")\n",
    "plt.ylabel(\"Count\")\n",
    "#It appears that on average individuals with medicaid, medicare, private insurrance have similar mortality rates"
   ]
  }
 ],
 "metadata": {
  "kernelspec": {
   "display_name": "Python 3",
   "language": "python",
   "name": "python3"
  },
  "language_info": {
   "codemirror_mode": {
    "name": "ipython",
    "version": 3
   },
   "file_extension": ".py",
   "mimetype": "text/x-python",
   "name": "python",
   "nbconvert_exporter": "python",
   "pygments_lexer": "ipython3",
   "version": "3.7.4"
  }
 },
 "nbformat": 4,
 "nbformat_minor": 2
}
