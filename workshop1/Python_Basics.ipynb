{
 "cells": [
  {
   "cell_type": "code",
   "execution_count": 1,
   "metadata": {},
   "outputs": [
    {
     "name": "stdout",
     "output_type": "stream",
     "text": [
      "Hello World\n"
     ]
    }
   ],
   "source": [
    "print(\"Hello World\")"
   ]
  },
  {
   "cell_type": "code",
   "execution_count": 2,
   "metadata": {},
   "outputs": [
    {
     "name": "stdout",
     "output_type": "stream",
     "text": [
      "7\n"
     ]
    }
   ],
   "source": [
    "a =7\n",
    "print(a)"
   ]
  },
  {
   "cell_type": "code",
   "execution_count": 3,
   "metadata": {},
   "outputs": [
    {
     "name": "stdout",
     "output_type": "stream",
     "text": [
      "7\n",
      "8.23\n",
      "Hi People\n",
      "Hello Everyone\n"
     ]
    }
   ],
   "source": [
    "a = 7\n",
    "b = 8.23\n",
    "c = \"Hi People\"\n",
    "d = 'Hello Everyone'\n",
    "print(a)\n",
    "print(b)\n",
    "print(c)\n",
    "print(d)"
   ]
  },
  {
   "cell_type": "code",
   "execution_count": 36,
   "metadata": {
    "scrolled": true
   },
   "outputs": [
    {
     "name": "stdout",
     "output_type": "stream",
     "text": [
      "odd\n",
      "even\n",
      "enter a guess (1-9 inclusive5\n",
      "guess too low\n",
      "enter a guess (1-9 inclusive8\n",
      "guess too low\n",
      "enter a guess (1-9 inclusive9\n",
      "you win (exactly right)\n",
      "False\n",
      "True\n"
     ]
    },
    {
     "ename": "NameError",
     "evalue": "name 'decoded' is not defined",
     "output_type": "error",
     "traceback": [
      "\u001b[0;31m---------------------------------------------------------------------------\u001b[0m",
      "\u001b[0;31mNameError\u001b[0m                                 Traceback (most recent call last)",
      "\u001b[0;32m<ipython-input-36-966c26f7d418>\u001b[0m in \u001b[0;36m<module>\u001b[0;34m\u001b[0m\n\u001b[1;32m    112\u001b[0m     \u001b[0mpart3\u001b[0m\u001b[0;34m(\u001b[0m\u001b[0;34m\"racecar\"\u001b[0m\u001b[0;34m)\u001b[0m  \u001b[0;31m# True\u001b[0m\u001b[0;34m\u001b[0m\u001b[0;34m\u001b[0m\u001b[0m\n\u001b[1;32m    113\u001b[0m     \u001b[0mpart4a\u001b[0m\u001b[0;34m(\u001b[0m\u001b[0;34m\"secret.txt\"\u001b[0m\u001b[0;34m,\u001b[0m \u001b[0;34m\"naitian\"\u001b[0m\u001b[0;34m,\u001b[0m \u001b[0;34m\"p4ssw0rd\"\u001b[0m\u001b[0;34m)\u001b[0m\u001b[0;34m\u001b[0m\u001b[0;34m\u001b[0m\u001b[0m\n\u001b[0;32m--> 114\u001b[0;31m     \u001b[0mpart4b\u001b[0m\u001b[0;34m(\u001b[0m\u001b[0;34m\"secret.txt\"\u001b[0m\u001b[0;34m)\u001b[0m\u001b[0;34m\u001b[0m\u001b[0;34m\u001b[0m\u001b[0m\n\u001b[0m\u001b[1;32m    115\u001b[0m     \u001b[0mpart4b\u001b[0m\u001b[0;34m(\u001b[0m\u001b[0;34m\"secret.txt\"\u001b[0m\u001b[0;34m,\u001b[0m \u001b[0mpassword\u001b[0m\u001b[0;34m=\u001b[0m\u001b[0;34m\"p4ssw0rd!\"\u001b[0m\u001b[0;34m)\u001b[0m\u001b[0;34m\u001b[0m\u001b[0;34m\u001b[0m\u001b[0m\n\u001b[1;32m    116\u001b[0m     \u001b[0mpart4b\u001b[0m\u001b[0;34m(\u001b[0m\u001b[0;34m\"secret.txt\"\u001b[0m\u001b[0;34m)\u001b[0m\u001b[0;34m\u001b[0m\u001b[0;34m\u001b[0m\u001b[0m\n",
      "\u001b[0;32m<ipython-input-36-966c26f7d418>\u001b[0m in \u001b[0;36mpart4b\u001b[0;34m(filename, password)\u001b[0m\n\u001b[1;32m     94\u001b[0m     \u001b[0mdecodedPass1\u001b[0m \u001b[0;34m=\u001b[0m \u001b[0mstr\u001b[0m\u001b[0;34m(\u001b[0m\u001b[0mdecodedPass\u001b[0m\u001b[0;34m,\u001b[0m \u001b[0;34m\"utf-8\"\u001b[0m\u001b[0;34m)\u001b[0m\u001b[0;34m\u001b[0m\u001b[0;34m\u001b[0m\u001b[0m\n\u001b[1;32m     95\u001b[0m \u001b[0;34m\u001b[0m\u001b[0m\n\u001b[0;32m---> 96\u001b[0;31m     \u001b[0mprint\u001b[0m\u001b[0;34m(\u001b[0m\u001b[0mdecodedUser1\u001b[0m \u001b[0;34m+\u001b[0m \u001b[0;34m\" \"\u001b[0m \u001b[0;34m+\u001b[0m \u001b[0mdecoded\u001b[0m\u001b[0;34m)\u001b[0m\u001b[0;34m\u001b[0m\u001b[0;34m\u001b[0m\u001b[0m\n\u001b[0m\u001b[1;32m     97\u001b[0m \u001b[0;34m\u001b[0m\u001b[0m\n\u001b[1;32m     98\u001b[0m     \u001b[0;32mif\u001b[0m \u001b[0mpassword\u001b[0m \u001b[0;34m!=\u001b[0m \u001b[0;32mNone\u001b[0m\u001b[0;34m:\u001b[0m\u001b[0;34m\u001b[0m\u001b[0;34m\u001b[0m\u001b[0m\n",
      "\u001b[0;31mNameError\u001b[0m: name 'decoded' is not defined"
     ]
    }
   ],
   "source": [
    "\"\"\"\n",
    "MDST Workshop 1 - Python Basics Starter Code\n",
    "\"\"\"\n",
    "\n",
    "# Add any imports you need here:\n",
    "import random\n",
    "import base64\n",
    "\n",
    "def part1(num):\n",
    "    \"\"\"\n",
    "    Ask the user for a number. Depending on whether the number is even or odd,\n",
    "    print out an appropriate (i.e. \"even\" or \"odd\") message to the user.\n",
    "    \"\"\"\n",
    "    if num % 2 == 0:\n",
    "        print(\"even\")\n",
    "    else:\n",
    "        print(\"odd\")\n",
    "            \n",
    "\n",
    "\n",
    "def part2():\n",
    "    \"\"\"\n",
    "    Generate a random number between 1 and 9 (including 1 and 9). Ask the user\n",
    "    to guess the number, then tell them whether they guessed too low, too high,\n",
    "    or exactly right.\n",
    "    (Hint: remember to use the user input lessons from the very first\n",
    "    exercise).\n",
    "    Keep the game going until the user types \"exit\".\n",
    "    [ try checking the random module in python on google. Concepts: Infinite\n",
    "    loops, if, else, loops and user/input].\n",
    "    \"\"\"\n",
    "    \n",
    "    rand = random.randint(1,9)\n",
    "    while(1):\n",
    "        inp = input(\"enter a guess (1-9 inclusive\")\n",
    "        if inp == \"exit\":\n",
    "            break\n",
    "        elif int(inp) == rand:\n",
    "            print(\"you win (exactly right)\")\n",
    "            break\n",
    "        elif int(inp) < rand:\n",
    "            print(\"guess too low\")\n",
    "        else:\n",
    "            print(\"guess too high\")\n",
    "\n",
    "\n",
    "def part3(string):\n",
    "    \"\"\"\n",
    "    Ask the user for a string and print out whether this string is a palindrome\n",
    "    or not. (A palindrome is a string that reads the same forwards and\n",
    "    backwards.)\n",
    "    \"\"\"\n",
    "   \n",
    "    for i in range(0,int(len(string)/2)):\n",
    "        if string[i] != string[len(string)-1-i]:\n",
    "            print(\"False\")\n",
    "            return False\n",
    "    else:\n",
    "        print(\"True\")\n",
    "        return True\n",
    "        \n",
    "def part4a(filename, username, password):\n",
    "    \"\"\"\n",
    "    Encrypt your username and password using base64 module\n",
    "    Store your encrypted username on the first line and your encrypted password\n",
    "    on the second line.\n",
    "    \"\"\"\n",
    "    f = open(filename, \"w\")\n",
    "   \n",
    "    encodedUser = base64.b64encode(username.encode(\"utf-8\"))\n",
    "    encodedUser1 = str(encodedUser, \"utf-8\")\n",
    "    encodedPass = base64.b64encode(password.encode(\"utf-8\"))\n",
    "    encodedPass1 = str(encodedPass, \"utf-8\")\n",
    "    f.write(encodedUser1 + \"\\n\" + encodedPass1)\n",
    "    \n",
    "\n",
    "part4a(\"beeeep.txt\",\"username\",\"password\")\n",
    "\n",
    "def part4b(filename, password=None):\n",
    "    \"\"\"\n",
    "    Create a function to read the file with your login information.\n",
    "    Print out the decrypted username and password.\n",
    "    If a password is specified, update the file with the new password.\n",
    "    \"\"\"\n",
    "    with open(filename, \"r\") as f1:\n",
    "        data = f1.readlines()\n",
    "    \n",
    "    user = data[0]\n",
    "    pword = data[1]\n",
    "    \n",
    "    decodedUser = base64.b64decode(user)\n",
    "    decodedUser1 = str(decodedUser, \"utf-8\")\n",
    "    decodedPass = base64.b64decode(pword)\n",
    "    decodedPass1 = str(decodedPass, \"utf-8\")\n",
    "    \n",
    "    print(decodedUser1 + \" \" + decoded)\n",
    "    \n",
    "    if password != None:\n",
    "        encodedPass = base64.b64encode(password.encode(\"utf-8\"))\n",
    "        encodedPass1 = str(encodedPass, \"utf-8\")\n",
    "        data[1] = encodedPass1 + '\\n'\n",
    "        with open(filename, \"w\") as f1:\n",
    "            f1.writelines(data)\n",
    "\n",
    "\n",
    "        \n",
    "if __name__ == \"__main__\":\n",
    "    part1(3)  # odd!\n",
    "    part1(4)  # even!\n",
    "    part2()\n",
    "    part3(\"ratrace\")  # False\n",
    "    part3(\"racecar\")  # True\n",
    "    part4a(\"secret.txt\", \"naitian\", \"p4ssw0rd\")\n",
    "    part4b(\"secret.txt\")\n",
    "    part4b(\"secret.txt\", password=\"p4ssw0rd!\")\n",
    "    part4b(\"secret.txt\")\n",
    "\n"
   ]
  },
  {
   "cell_type": "code",
   "execution_count": null,
   "metadata": {},
   "outputs": [],
   "source": []
  }
 ],
 "metadata": {
  "kernelspec": {
   "display_name": "Python 3",
   "language": "python",
   "name": "python3"
  },
  "language_info": {
   "codemirror_mode": {
    "name": "ipython",
    "version": 3
   },
   "file_extension": ".py",
   "mimetype": "text/x-python",
   "name": "python",
   "nbconvert_exporter": "python",
   "pygments_lexer": "ipython3",
   "version": "3.7.4"
  }
 },
 "nbformat": 4,
 "nbformat_minor": 4
}
